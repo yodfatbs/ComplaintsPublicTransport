{
 "cells": [
  {
   "cell_type": "markdown",
   "metadata": {},
   "source": [
    "# ready "
   ]
  },
  {
   "cell_type": "code",
   "execution_count": 1,
   "metadata": {},
   "outputs": [],
   "source": [
    "from handler_raw_complaints import create_basic_complaints \n",
    "\n",
    "from handler_demographic import merge_demographic \n",
    "from handler_GIS_demographic import build_GIS_demographic_data\n",
    "from handler_GIS_buslines_jerusalem import make_jlm_metro_routes\n",
    "from handler_rishui import rishui_resolutions, passengers_resolutions, ebitzua_resolutions\n",
    "from handler_socioeconomic_ranking import calculate_socio_econimoc_lines\n",
    "from handler_service_areas import create_service_areas_resolutions\n",
    "from handler_complaints import complaints_resolutions\n",
    "from general_functions import prepare_data_to_directness_analysis, create_directness\n",
    "from handler_merger_export import merge_and_export\n"
   ]
  },
  {
   "cell_type": "markdown",
   "metadata": {},
   "source": [
    "## use arcgis pro kernel"
   ]
  },
  {
   "cell_type": "code",
   "execution_count": 2,
   "metadata": {},
   "outputs": [
    {
     "name": "stdout",
     "output_type": "stream",
     "text": [
      "statistical areas with demographic date is printed\n",
      "rishui data res12 is printed\n",
      "rishui data res3 is printed\n",
      "sosio economic ranking printed\n",
      "service areas are printed\n",
      "passengers numbers per line are printed\n",
      "e-bitua data printed\n",
      "scomplaints data printed\n",
      "pre directness analysis complete\n",
      "res1 exported\n",
      "res2 exported\n",
      "res3 exported\n"
     ]
    }
   ],
   "source": [
    "# process raw complaints, not to regular run\n",
    "# create_basic_complaints()\n",
    "\n",
    " # union socioeconomic data per statistical area \n",
    "demographic_table=merge_demographic() \n",
    "\n",
    "# add geographic locations to demofraphic table\n",
    "build_GIS_demographic_data()\n",
    "\n",
    "#create geographic layer of bus lines in research area\n",
    "bus_lines_jlm=make_jlm_metro_routes()\n",
    "\n",
    "# add license details for each bus line in each resolution\\\n",
    "#  (line-direction-alternative-day period,line-direction-alternative,line-direction)\n",
    "rishui_res12, rishui_res3=rishui_resolutions(bus_lines_jlm)\n",
    "\n",
    "#calculate socio economic ranking per bus line\n",
    "socio_eco_res_12, socio_eco_res3=calculate_socio_econimoc_lines(bus_lines_jlm)\n",
    "\n",
    "#determine wether bus line serves west bank settlements, west metropolitan area, city of jerusalem, or east jerusalem\n",
    "service_areas_res12, service_areas_res3=create_service_areas_resolutions(rishui_res12)\n",
    "\n",
    "#calculate number of passengers per bus line\n",
    "passengers_res12, passengers_res3=passengers_resolutions()\n",
    "\n",
    "#calculate percent of non-execution trips per bus line\n",
    "ebitzua_res1, ebitzua_res2, ebitzua_res3=ebitzua_resolutions()\n",
    "\n",
    "# sum number of complaints per bus line\n",
    "complaints_res1,complaints_res2, complaints_res3=complaints_resolutions()\n",
    "\n",
    "#calculate direcntess mesurement per bus line (the compelete analisys was made in a different file)\n",
    "prepare_data_to_directness_analysis()\n",
    "\n",
    "directness_res12, directness_res3=create_directness()\n",
    "\n",
    "#merge dfs based on resolution, and export to csvs\n",
    "res1_dfs=[rishui_res12[['makat', 'type']],passengers_res12,directness_res12[['route_desc', 'directness']],\n",
    "         socio_eco_res_12 ,service_areas_res12]\n",
    "\n",
    "\n",
    "res2_dfs=[rishui_res12[['makat', 'type']],passengers_res12,ebitzua_res2,socio_eco_res_12,\n",
    "        directness_res12[['route_desc', 'directness']],service_areas_res12, complaints_res2]\n",
    "\n",
    "res3_dfs=[rishui_res3[['routeid_direction', 'type']],passengers_res3,ebitzua_res3,\n",
    "            directness_res3,service_areas_res3,socio_eco_res3, complaints_res3]\n",
    "\n",
    "\n",
    "r1, r2, r3=merge_and_export(res1_dfs,res2_dfs,res3_dfs,ebitzua_res1,complaints_res1)"
   ]
  },
  {
   "cell_type": "code",
   "execution_count": 2,
   "metadata": {},
   "outputs": [],
   "source": [
    "# from handler_directness import create_directness_measurement\n",
    "# create_directness_measurement()"
   ]
  }
 ],
 "metadata": {
  "kernelspec": {
   "display_name": "arcgispro-py3",
   "language": "python",
   "name": "python3"
  },
  "language_info": {
   "codemirror_mode": {
    "name": "ipython",
    "version": 3
   },
   "file_extension": ".py",
   "mimetype": "text/x-python",
   "name": "python",
   "nbconvert_exporter": "python",
   "pygments_lexer": "ipython3",
   "version": "3.9.18"
  }
 },
 "nbformat": 4,
 "nbformat_minor": 2
}
